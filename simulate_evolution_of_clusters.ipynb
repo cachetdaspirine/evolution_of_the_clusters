{
 "cells": [
  {
   "cell_type": "code",
   "execution_count": 2,
   "metadata": {},
   "outputs": [],
   "source": [
    "import importlib\n",
    "import Compute_evolution_of_clusters\n",
    "importlib.reload(Compute_evolution_of_clusters)\n",
    "from Compute_evolution_of_clusters import *\n",
    "\n",
    "import matplotlib.pyplot as plt\n",
    "import sys\n",
    "\n",
    "sys.path.append('/home/hcleroy/PostDoc/aging_condensates/Simulation/Gillespie/Analysis/')\n",
    "sys.path.append('/home/hugo/PostDoc/aging_condensates/Gillespie/Analysis/')\n",
    "from ToolBox import *\n",
    "\n",
    "sys.path.append('/home/hcleroy/PostDoc/aging_condensates/Simulation/Gillespie/Gillespie_backend')\n",
    "import Gillespie_backend as Gil\n",
    "\n",
    "sys.path.append('/home/hcleroy/Extra_Module_py')\n",
    "sys.path.append('/home/hugo/Extra_Module_py')\n",
    "import formated_matplotlib\n",
    "\n",
    "Ec = lambda L,N : 3/2*np.log(L/N* np.pi/3)"
   ]
  },
  {
   "cell_type": "code",
   "execution_count": 11,
   "metadata": {},
   "outputs": [
    {
     "name": "stdout",
     "output_type": "stream",
     "text": [
      "5.937210903914155\n"
     ]
    }
   ],
   "source": [
    "# gillespie parameter\n",
    "Nlinker = 20\n",
    "ell_tot = 10**3\n",
    "V = 2*((ell_tot/6)**1.5/Nlinker**0.5*3/4*np.pi)\n",
    "kdiff = ell_tot/(V)/10 \n",
    "Energy = -15\n",
    "Nprocess = 100\n",
    "args = [[ell_tot,Energy,kdiff,np.random.randint(1000000),Nlinker,3] for _ in range(Nprocess)]\n",
    "print(Ec(ell_tot,Nlinker))\n",
    "# Simulation parameters\n",
    "step_tot = 10**6\n",
    "compute_steps = 10000\n",
    "parallel_cluster_size_evolution(args,step_tot,compute_steps,'c_size_20_linkers_Ell_10E3_kdiff_lsvs10.hdf',3.)"
   ]
  },
  {
   "cell_type": "code",
   "execution_count": null,
   "metadata": {},
   "outputs": [],
   "source": [
    "# gillespie parameter\n",
    "Nlinker = 20\n",
    "ell_tot = 10**3\n",
    "V = 2*((ell_tot/6)**1.5/Nlinker**0.5*3/4*np.pi)\n",
    "kdiff = ell_tot/(V)/1 \n",
    "Energy = -15\n",
    "Nprocess = 100\n",
    "args = [[ell_tot,Energy,kdiff,np.random.randint(1000000),Nlinker,3] for _ in range(Nprocess)]\n",
    "print(Ec(ell_tot,Nlinker))\n",
    "# Simulation parameters\n",
    "step_tot = 10**6\n",
    "compute_steps = 10000\n",
    "parallel_cluster_size_evolution(args,step_tot,compute_steps,'c_size_20_linkers_Ell_10E3_kdiff_lsvs.hdf',3.)"
   ]
  },
  {
   "cell_type": "code",
   "execution_count": null,
   "metadata": {},
   "outputs": [],
   "source": [
    "# gillespie parameter\n",
    "Nlinker = 20\n",
    "ell_tot = 10**3\n",
    "V = 2*((ell_tot/6)**1.5/Nlinker**0.5*3/4*np.pi)\n",
    "kdiff = ell_tot/(V)/100 \n",
    "Energy = -15\n",
    "Nprocess = 100\n",
    "args = [[ell_tot,Energy,kdiff,np.random.randint(1000000),Nlinker,3] for _ in range(Nprocess)]\n",
    "print(Ec(ell_tot,Nlinker))\n",
    "# Simulation parameters\n",
    "step_tot = 10**6\n",
    "compute_steps = 10000\n",
    "parallel_cluster_size_evolution(args,step_tot,compute_steps,'c_size_20_linkers_Ell_10E3_kdiff_lsvs100.hdf',3.)"
   ]
  },
  {
   "cell_type": "code",
   "execution_count": 5,
   "metadata": {},
   "outputs": [],
   "source": [
    "average_result_b = np.zeros((step_tot//compute_steps,2),dtype=float)\n",
    "with pt.open_file('c_size_20_linkers_Ell_10E3_kdiff_lsvs100.hdf','r') as file:\n",
    "    n = 0\n",
    "    for array in file.list_nodes('/',classname='Array'):\n",
    "        average_result_b+=array\n",
    "        n+=1\n",
    "    average_result_b /= n"
   ]
  },
  {
   "cell_type": "code",
   "execution_count": 6,
   "metadata": {},
   "outputs": [
    {
     "ename": "ValueError",
     "evalue": "operands could not be broadcast together with shapes (100,2) (10,2) (100,2) ",
     "output_type": "error",
     "traceback": [
      "\u001b[0;31m---------------------------------------------------------------------------\u001b[0m",
      "\u001b[0;31mValueError\u001b[0m                                Traceback (most recent call last)",
      "\u001b[0;32m/tmp/ipykernel_9754/1716809806.py\u001b[0m in \u001b[0;36m<module>\u001b[0;34m\u001b[0m\n\u001b[1;32m      3\u001b[0m     \u001b[0mn\u001b[0m \u001b[0;34m=\u001b[0m \u001b[0;36m0\u001b[0m\u001b[0;34m\u001b[0m\u001b[0;34m\u001b[0m\u001b[0m\n\u001b[1;32m      4\u001b[0m     \u001b[0;32mfor\u001b[0m \u001b[0marray\u001b[0m \u001b[0;32min\u001b[0m \u001b[0mfile\u001b[0m\u001b[0;34m.\u001b[0m\u001b[0mlist_nodes\u001b[0m\u001b[0;34m(\u001b[0m\u001b[0;34m'/'\u001b[0m\u001b[0;34m,\u001b[0m\u001b[0mclassname\u001b[0m\u001b[0;34m=\u001b[0m\u001b[0;34m'Array'\u001b[0m\u001b[0;34m)\u001b[0m\u001b[0;34m:\u001b[0m\u001b[0;34m\u001b[0m\u001b[0;34m\u001b[0m\u001b[0m\n\u001b[0;32m----> 5\u001b[0;31m         \u001b[0maverage_result\u001b[0m\u001b[0;34m+=\u001b[0m\u001b[0marray\u001b[0m\u001b[0;34m\u001b[0m\u001b[0;34m\u001b[0m\u001b[0m\n\u001b[0m\u001b[1;32m      6\u001b[0m         \u001b[0mn\u001b[0m\u001b[0;34m+=\u001b[0m\u001b[0;36m1\u001b[0m\u001b[0;34m\u001b[0m\u001b[0;34m\u001b[0m\u001b[0m\n\u001b[1;32m      7\u001b[0m     \u001b[0maverage_result\u001b[0m \u001b[0;34m/=\u001b[0m \u001b[0mn\u001b[0m\u001b[0;34m\u001b[0m\u001b[0;34m\u001b[0m\u001b[0m\n",
      "\u001b[0;31mValueError\u001b[0m: operands could not be broadcast together with shapes (100,2) (10,2) (100,2) "
     ]
    }
   ],
   "source": [
    "average_result = np.zeros((step_tot//compute_steps,2),dtype=float)\n",
    "with pt.open_file('c_size_20_linkers_Ell_10E3.hdf','r') as file:\n",
    "    n = 0\n",
    "    for array in file.list_nodes('/',classname='Array'):\n",
    "        average_result+=array\n",
    "        n+=1\n",
    "    average_result /= n"
   ]
  },
  {
   "cell_type": "code",
   "execution_count": 10,
   "metadata": {},
   "outputs": [
    {
     "data": {
      "text/plain": [
       "[<matplotlib.lines.Line2D at 0x7ff7e1bc8850>]"
      ]
     },
     "execution_count": 10,
     "metadata": {},
     "output_type": "execute_result"
    },
    {
     "data": {
      "image/png": "[encoded data removed]",
      "text/plain": [
       "<Figure size 240.945x181.162 with 1 Axes>"
      ]
     },
     "metadata": {
      "needs_background": "light"
     },
     "output_type": "display_data"
    }
   ],
   "source": [
    "#plt.plot(average_result[:,0],average_result[:,1])\n",
    "plt.plot(average_result_b[:,0],average_result_b[:,1])\n",
    "#plt.xscale('log')"
   ]
  },
  {
   "cell_type": "code",
   "execution_count": null,
   "metadata": {},
   "outputs": [],
   "source": []
  }
 ],
 "metadata": {
  "kernelspec": {
   "display_name": "base",
   "language": "python",
   "name": "python3"
  },
  "language_info": {
   "codemirror_mode": {
    "name": "ipython",
    "version": 3
   },
   "file_extension": ".py",
   "mimetype": "text/x-python",
   "name": "python",
   "nbconvert_exporter": "python",
   "pygments_lexer": "ipython3",
   "version": "3.10.6"
  },
  "orig_nbformat": 4
 },
 "nbformat": 4,
 "nbformat_minor": 2
}
