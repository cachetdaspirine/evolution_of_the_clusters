{
 "cells": [
  {
   "cell_type": "code",
   "execution_count": 1,
   "metadata": {},
   "outputs": [],
   "source": [
    "import importlib\n",
    "import Compute_evolution_of_clusters\n",
    "importlib.reload(Compute_evolution_of_clusters)\n",
    "from Compute_evolution_of_clusters import *\n",
    "\n",
    "import matplotlib.pyplot as plt\n",
    "import sys\n",
    "\n",
    "sys.path.append('/home/hcleroy/PostDoc/aging_condensates/Simulation/Gillespie/Analysis/')\n",
    "sys.path.append('/home/hugo/PostDoc/aging_condensates/Gillespie/Analysis/')\n",
    "from ToolBox import *\n",
    "\n",
    "sys.path.append('/home/hcleroy/PostDoc/aging_condensates/Simulation/Gillespie/Gillespie_backend')\n",
    "import Gillespie_backend as Gil\n",
    "\n",
    "sys.path.append('/home/hcleroy/Extra_Module_py')\n",
    "sys.path.append('/home/hugo/Extra_Module_py')\n",
    "import formated_matplotlib\n",
    "\n",
    "Ec = lambda L,N : 3/2*np.log(L/N* np.pi/3)"
   ]
  },
  {
   "cell_type": "code",
   "execution_count": 12,
   "metadata": {},
   "outputs": [
    {
     "name": "stdout",
     "output_type": "stream",
     "text": [
      "5.937210903914155\n"
     ]
    }
   ],
   "source": [
    "# gillespie parameter\n",
    "Nlinker = 20\n",
    "ell_tot = 10**3\n",
    "V = 2*((ell_tot/6)**1.5/Nlinker**0.5*3/4*np.pi)\n",
    "kdiff = 100/(V) # for 3D\n",
    "Energy = -15\n",
    "Nprocess = 10\n",
    "args = [[ell_tot,Energy,kdiff,np.random.randint(1000000),Nlinker,3] for _ in range(Nprocess)]\n",
    "print(Ec(ell_tot,Nlinker))\n",
    "# Simulation parameters\n",
    "step_tot = 200000\n",
    "compute_steps = 10000"
   ]
  },
  {
   "cell_type": "code",
   "execution_count": 13,
   "metadata": {},
   "outputs": [],
   "source": [
    "parallel_cluster_size_evolution(args,step_tot,compute_steps,'c_size_20_linkers_Ell_10E3_b.hdf',3.)"
   ]
  },
  {
   "cell_type": "code",
   "execution_count": 15,
   "metadata": {},
   "outputs": [],
   "source": [
    "average_result_b = np.zeros((step_tot//compute_steps,2),dtype=float)\n",
    "with pt.open_file('c_size_20_linkers_Ell_10E3_b.hdf','r') as file:\n",
    "    n = 0\n",
    "    for array in file.list_nodes('/',classname='Array'):\n",
    "        average_result_b+=array\n",
    "        n+=1\n",
    "    average_result_b /= n"
   ]
  },
  {
   "cell_type": "code",
   "execution_count": 10,
   "metadata": {},
   "outputs": [],
   "source": [
    "average_result = np.zeros((step_tot//compute_steps,2),dtype=float)\n",
    "with pt.open_file('c_size_20_linkers_Ell_10E3.hdf','r') as file:\n",
    "    n = 0\n",
    "    for array in file.list_nodes('/',classname='Array'):\n",
    "        average_result+=array\n",
    "        n+=1\n",
    "    average_result /= n"
   ]
  },
  {
   "cell_type": "code",
   "execution_count": 16,
   "metadata": {},
   "outputs": [
    {
     "data": {
      "text/plain": [
       "[<matplotlib.lines.Line2D at 0x7f758cbbcb20>]"
      ]
     },
     "execution_count": 16,
     "metadata": {},
     "output_type": "execute_result"
    },
    {
     "data": {
      "image/png": "[encoded data removed]",
      "text/plain": [
       "<Figure size 334.646x251.613 with 1 Axes>"
      ]
     },
     "metadata": {},
     "output_type": "display_data"
    }
   ],
   "source": [
    "plt.plot(average_result[:,0],average_result[:,1])\n",
    "plt.plot(average_result_b[:,0],average_result_b[:,1])"
   ]
  },
  {
   "cell_type": "code",
   "execution_count": null,
   "metadata": {},
   "outputs": [],
   "source": []
  }
 ],
 "metadata": {
  "kernelspec": {
   "display_name": "base",
   "language": "python",
   "name": "python3"
  },
  "language_info": {
   "codemirror_mode": {
    "name": "ipython",
    "version": 3
   },
   "file_extension": ".py",
   "mimetype": "text/x-python",
   "name": "python",
   "nbconvert_exporter": "python",
   "pygments_lexer": "ipython3",
   "version": "3.8.8"
  },
  "orig_nbformat": 4
 },
 "nbformat": 4,
 "nbformat_minor": 2
}
